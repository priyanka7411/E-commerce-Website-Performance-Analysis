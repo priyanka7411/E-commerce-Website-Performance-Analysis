{
 "cells": [
  {
   "cell_type": "code",
   "execution_count": 1,
   "id": "26361030",
   "metadata": {},
   "outputs": [],
   "source": [
    "import pandas as pd\n",
    "import numpy as np\n",
    "import matplotlib.pyplot as plt\n",
    "import seaborn as sns\n",
    "import plotly.express as px\n",
    "import plotly.graph_objects as go\n",
    "from plotly.subplots import make_subplots\n",
    "from scipy.stats import chi2_contingency, chi2\n",
    "from scipy import stats\n",
    "import warnings\n",
    "warnings.filterwarnings('ignore')"
   ]
  },
  {
   "cell_type": "code",
   "execution_count": 2,
   "id": "dbce4432",
   "metadata": {},
   "outputs": [],
   "source": [
    "df=pd.read_csv(r\"/Users/priyankamalavade/Desktop/Ecommerce_Performance_Analysis/data/cleaned_ecommerce_data.csv\")"
   ]
  },
  {
   "cell_type": "code",
   "execution_count": 3,
   "id": "4689c48d",
   "metadata": {},
   "outputs": [
    {
     "name": "stdout",
     "output_type": "stream",
     "text": [
      "\n",
      "Dataset Overview:\n",
      "Total Sessions: 12,330\n",
      "Conversion Rate: 0.1547\n",
      "Average Revenue: $0.15\n"
     ]
    }
   ],
   "source": [
    "# Display basic info about the dataset\n",
    "print(f\"\\nDataset Overview:\")\n",
    "print(f\"Total Sessions: {len(df):,}\")\n",
    "print(f\"Conversion Rate: {df['Revenue'].mean():.4f}\")\n",
    "print(f\"Average Revenue: ${df['Revenue'].mean():.2f}\")\n"
   ]
  },
  {
   "cell_type": "code",
   "execution_count": 4,
   "id": "167eb1c1",
   "metadata": {},
   "outputs": [
    {
     "name": "stdout",
     "output_type": "stream",
     "text": [
      "\n",
      "Data Quality Check:\n",
      "Missing values: 0\n",
      "Unique visitor types: ['Returning_Visitor' 'New_Visitor' 'Other']\n"
     ]
    }
   ],
   "source": [
    "# Check data types and missing values\n",
    "print(f\"\\nData Quality Check:\")\n",
    "print(f\"Missing values: {df.isnull().sum().sum()}\")\n",
    "print(f\"Unique visitor types: {df['VisitorType'].unique()}\")\n"
   ]
  },
  {
   "cell_type": "code",
   "execution_count": 5,
   "id": "4fc1d7f5",
   "metadata": {},
   "outputs": [
    {
     "name": "stdout",
     "output_type": "stream",
     "text": [
      "Stage 1 - All Sessions: 12,330\n",
      "Stage 2 - Engaged Sessions: 12,324\n",
      "Stage 3 - Product Interest: 12,292\n",
      "Stage 4 - Deep Product Engagement: 11,232\n",
      "Stage 5 - High Intent: 9,729\n",
      "Stage 6 - Purchase: 1,908\n",
      "\n",
      "Funnel Summary:\n",
      "              Stage  Count  Conversion_Rate  Drop_Off_Rate\n",
      "0      All Sessions  12330           100.00           0.00\n",
      "1           Engaged  12324            99.95           0.05\n",
      "2  Product Interest  12292            99.69           0.26\n",
      "3   Deep Engagement  11232            91.09           8.62\n",
      "4       High Intent   9729            78.91          13.38\n",
      "5          Purchase   1908            15.47          80.39\n"
     ]
    }
   ],
   "source": [
    "# Stage 1: All Sessions (Landing Page Views)\n",
    "stage_1_sessions = len(df)\n",
    "print(f\"Stage 1 - All Sessions: {stage_1_sessions:,}\")\n",
    "\n",
    "# Stage 2: Page Engagement (visited more than just landing page)\n",
    "# Users who visited Administrative, Informational, or ProductRelated pages\n",
    "engaged_sessions = df[\n",
    "    (df['Administrative'] > 0) | \n",
    "    (df['Informational'] > 0) | \n",
    "    (df['ProductRelated'] > 0)\n",
    "]\n",
    "stage_2_engaged = len(engaged_sessions)\n",
    "print(f\"Stage 2 - Engaged Sessions: {stage_2_engaged:,}\")\n",
    "\n",
    "# Stage 3: Product Interest (visited ProductRelated pages)\n",
    "product_interest = df[df['ProductRelated'] > 0]\n",
    "stage_3_interest = len(product_interest)\n",
    "print(f\"Stage 3 - Product Interest: {stage_3_interest:,}\")\n",
    "\n",
    "# Stage 4: Deep Product Engagement (multiple product pages or high duration)\n",
    "deep_engagement = df[\n",
    "    (df['ProductRelated'] > 2) | \n",
    "    (df['ProductRelated_Duration'] > 300)  # 5+ minutes on product pages\n",
    "]\n",
    "stage_4_deep = len(deep_engagement)\n",
    "print(f\"Stage 4 - Deep Product Engagement: {stage_4_deep:,}\")\n",
    "\n",
    "# Stage 5: High Intent (PageValues > 0 or low bounce rate)\n",
    "high_intent = df[\n",
    "    (df['PageValues'] > 0) | \n",
    "    (df['BounceRates'] < 0.02)  # Very low bounce rate\n",
    "]\n",
    "stage_5_intent = len(high_intent)\n",
    "print(f\"Stage 5 - High Intent: {stage_5_intent:,}\")\n",
    "\n",
    "# Stage 6: Purchase (Revenue = True)\n",
    "stage_6_purchase = df['Revenue'].sum()\n",
    "print(f\"Stage 6 - Purchase: {stage_6_purchase:,}\")\n",
    "\n",
    "# Calculate conversion rates\n",
    "funnel_data = {\n",
    "    'Stage': ['All Sessions', 'Engaged', 'Product Interest', 'Deep Engagement', 'High Intent', 'Purchase'],\n",
    "    'Count': [stage_1_sessions, stage_2_engaged, stage_3_interest, stage_4_deep, stage_5_intent, stage_6_purchase],\n",
    "    'Conversion_Rate': [100, 0, 0, 0, 0, 0],\n",
    "    'Drop_Off_Rate': [0, 0, 0, 0, 0, 0]\n",
    "}\n",
    "\n",
    "# Calculate conversion and drop-off rates\n",
    "for i in range(1, len(funnel_data['Count'])):\n",
    "    funnel_data['Conversion_Rate'][i] = (funnel_data['Count'][i] / funnel_data['Count'][0]) * 100\n",
    "    if i > 0:\n",
    "        funnel_data['Drop_Off_Rate'][i] = ((funnel_data['Count'][i-1] - funnel_data['Count'][i]) / funnel_data['Count'][i-1]) * 100\n",
    "\n",
    "funnel_df = pd.DataFrame(funnel_data)\n",
    "print(f\"\\nFunnel Summary:\")\n",
    "print(funnel_df.round(2))\n"
   ]
  },
  {
   "cell_type": "code",
   "execution_count": 6,
   "id": "43b643cd",
   "metadata": {},
   "outputs": [
    {
     "data": {
      "application/vnd.plotly.v1+json": {
       "config": {
        "plotlyServerURL": "https://plot.ly"
       },
       "data": [
        {
         "connector": {
          "line": {
           "color": "royalblue",
           "dash": "dot",
           "width": 3
          }
         },
         "marker": {
          "color": [
           "deepskyblue",
           "lightsalmon",
           "tan",
           "teal",
           "silver",
           "gold"
          ]
         },
         "textfont": {
          "color": "white",
          "size": 12
         },
         "textinfo": "value+percent initial",
         "textposition": "inside",
         "type": "funnel",
         "x": {
          "bdata": "KjAkMAQw4CsBJnQH",
          "dtype": "i2"
         },
         "y": [
          "All Sessions",
          "Engaged",
          "Product Interest",
          "Deep Engagement",
          "High Intent",
          "Purchase"
         ]
        }
       ],
       "layout": {
        "font": {
         "size": 14
        },
        "height": 700,
        "template": {
         "data": {
          "bar": [
           {
            "error_x": {
             "color": "#2a3f5f"
            },
            "error_y": {
             "color": "#2a3f5f"
            },
            "marker": {
             "line": {
              "color": "#E5ECF6",
              "width": 0.5
             },
             "pattern": {
              "fillmode": "overlay",
              "size": 10,
              "solidity": 0.2
             }
            },
            "type": "bar"
           }
          ],
          "barpolar": [
           {
            "marker": {
             "line": {
              "color": "#E5ECF6",
              "width": 0.5
             },
             "pattern": {
              "fillmode": "overlay",
              "size": 10,
              "solidity": 0.2
             }
            },
            "type": "barpolar"
           }
          ],
          "carpet": [
           {
            "aaxis": {
             "endlinecolor": "#2a3f5f",
             "gridcolor": "white",
             "linecolor": "white",
             "minorgridcolor": "white",
             "startlinecolor": "#2a3f5f"
            },
            "baxis": {
             "endlinecolor": "#2a3f5f",
             "gridcolor": "white",
             "linecolor": "white",
             "minorgridcolor": "white",
             "startlinecolor": "#2a3f5f"
            },
            "type": "carpet"
           }
          ],
          "choropleth": [
           {
            "colorbar": {
             "outlinewidth": 0,
             "ticks": ""
            },
            "type": "choropleth"
           }
          ],
          "contour": [
           {
            "colorbar": {
             "outlinewidth": 0,
             "ticks": ""
            },
            "colorscale": [
             [
              0,
              "#0d0887"
             ],
             [
              0.1111111111111111,
              "#46039f"
             ],
             [
              0.2222222222222222,
              "#7201a8"
             ],
             [
              0.3333333333333333,
              "#9c179e"
             ],
             [
              0.4444444444444444,
              "#bd3786"
             ],
             [
              0.5555555555555556,
              "#d8576b"
             ],
             [
              0.6666666666666666,
              "#ed7953"
             ],
             [
              0.7777777777777778,
              "#fb9f3a"
             ],
             [
              0.8888888888888888,
              "#fdca26"
             ],
             [
              1,
              "#f0f921"
             ]
            ],
            "type": "contour"
           }
          ],
          "contourcarpet": [
           {
            "colorbar": {
             "outlinewidth": 0,
             "ticks": ""
            },
            "type": "contourcarpet"
           }
          ],
          "heatmap": [
           {
            "colorbar": {
             "outlinewidth": 0,
             "ticks": ""
            },
            "colorscale": [
             [
              0,
              "#0d0887"
             ],
             [
              0.1111111111111111,
              "#46039f"
             ],
             [
              0.2222222222222222,
              "#7201a8"
             ],
             [
              0.3333333333333333,
              "#9c179e"
             ],
             [
              0.4444444444444444,
              "#bd3786"
             ],
             [
              0.5555555555555556,
              "#d8576b"
             ],
             [
              0.6666666666666666,
              "#ed7953"
             ],
             [
              0.7777777777777778,
              "#fb9f3a"
             ],
             [
              0.8888888888888888,
              "#fdca26"
             ],
             [
              1,
              "#f0f921"
             ]
            ],
            "type": "heatmap"
           }
          ],
          "histogram": [
           {
            "marker": {
             "pattern": {
              "fillmode": "overlay",
              "size": 10,
              "solidity": 0.2
             }
            },
            "type": "histogram"
           }
          ],
          "histogram2d": [
           {
            "colorbar": {
             "outlinewidth": 0,
             "ticks": ""
            },
            "colorscale": [
             [
              0,
              "#0d0887"
             ],
             [
              0.1111111111111111,
              "#46039f"
             ],
             [
              0.2222222222222222,
              "#7201a8"
             ],
             [
              0.3333333333333333,
              "#9c179e"
             ],
             [
              0.4444444444444444,
              "#bd3786"
             ],
             [
              0.5555555555555556,
              "#d8576b"
             ],
             [
              0.6666666666666666,
              "#ed7953"
             ],
             [
              0.7777777777777778,
              "#fb9f3a"
             ],
             [
              0.8888888888888888,
              "#fdca26"
             ],
             [
              1,
              "#f0f921"
             ]
            ],
            "type": "histogram2d"
           }
          ],
          "histogram2dcontour": [
           {
            "colorbar": {
             "outlinewidth": 0,
             "ticks": ""
            },
            "colorscale": [
             [
              0,
              "#0d0887"
             ],
             [
              0.1111111111111111,
              "#46039f"
             ],
             [
              0.2222222222222222,
              "#7201a8"
             ],
             [
              0.3333333333333333,
              "#9c179e"
             ],
             [
              0.4444444444444444,
              "#bd3786"
             ],
             [
              0.5555555555555556,
              "#d8576b"
             ],
             [
              0.6666666666666666,
              "#ed7953"
             ],
             [
              0.7777777777777778,
              "#fb9f3a"
             ],
             [
              0.8888888888888888,
              "#fdca26"
             ],
             [
              1,
              "#f0f921"
             ]
            ],
            "type": "histogram2dcontour"
           }
          ],
          "mesh3d": [
           {
            "colorbar": {
             "outlinewidth": 0,
             "ticks": ""
            },
            "type": "mesh3d"
           }
          ],
          "parcoords": [
           {
            "line": {
             "colorbar": {
              "outlinewidth": 0,
              "ticks": ""
             }
            },
            "type": "parcoords"
           }
          ],
          "pie": [
           {
            "automargin": true,
            "type": "pie"
           }
          ],
          "scatter": [
           {
            "fillpattern": {
             "fillmode": "overlay",
             "size": 10,
             "solidity": 0.2
            },
            "type": "scatter"
           }
          ],
          "scatter3d": [
           {
            "line": {
             "colorbar": {
              "outlinewidth": 0,
              "ticks": ""
             }
            },
            "marker": {
             "colorbar": {
              "outlinewidth": 0,
              "ticks": ""
             }
            },
            "type": "scatter3d"
           }
          ],
          "scattercarpet": [
           {
            "marker": {
             "colorbar": {
              "outlinewidth": 0,
              "ticks": ""
             }
            },
            "type": "scattercarpet"
           }
          ],
          "scattergeo": [
           {
            "marker": {
             "colorbar": {
              "outlinewidth": 0,
              "ticks": ""
             }
            },
            "type": "scattergeo"
           }
          ],
          "scattergl": [
           {
            "marker": {
             "colorbar": {
              "outlinewidth": 0,
              "ticks": ""
             }
            },
            "type": "scattergl"
           }
          ],
          "scattermap": [
           {
            "marker": {
             "colorbar": {
              "outlinewidth": 0,
              "ticks": ""
             }
            },
            "type": "scattermap"
           }
          ],
          "scattermapbox": [
           {
            "marker": {
             "colorbar": {
              "outlinewidth": 0,
              "ticks": ""
             }
            },
            "type": "scattermapbox"
           }
          ],
          "scatterpolar": [
           {
            "marker": {
             "colorbar": {
              "outlinewidth": 0,
              "ticks": ""
             }
            },
            "type": "scatterpolar"
           }
          ],
          "scatterpolargl": [
           {
            "marker": {
             "colorbar": {
              "outlinewidth": 0,
              "ticks": ""
             }
            },
            "type": "scatterpolargl"
           }
          ],
          "scatterternary": [
           {
            "marker": {
             "colorbar": {
              "outlinewidth": 0,
              "ticks": ""
             }
            },
            "type": "scatterternary"
           }
          ],
          "surface": [
           {
            "colorbar": {
             "outlinewidth": 0,
             "ticks": ""
            },
            "colorscale": [
             [
              0,
              "#0d0887"
             ],
             [
              0.1111111111111111,
              "#46039f"
             ],
             [
              0.2222222222222222,
              "#7201a8"
             ],
             [
              0.3333333333333333,
              "#9c179e"
             ],
             [
              0.4444444444444444,
              "#bd3786"
             ],
             [
              0.5555555555555556,
              "#d8576b"
             ],
             [
              0.6666666666666666,
              "#ed7953"
             ],
             [
              0.7777777777777778,
              "#fb9f3a"
             ],
             [
              0.8888888888888888,
              "#fdca26"
             ],
             [
              1,
              "#f0f921"
             ]
            ],
            "type": "surface"
           }
          ],
          "table": [
           {
            "cells": {
             "fill": {
              "color": "#EBF0F8"
             },
             "line": {
              "color": "white"
             }
            },
            "header": {
             "fill": {
              "color": "#C8D4E3"
             },
             "line": {
              "color": "white"
             }
            },
            "type": "table"
           }
          ]
         },
         "layout": {
          "annotationdefaults": {
           "arrowcolor": "#2a3f5f",
           "arrowhead": 0,
           "arrowwidth": 1
          },
          "autotypenumbers": "strict",
          "coloraxis": {
           "colorbar": {
            "outlinewidth": 0,
            "ticks": ""
           }
          },
          "colorscale": {
           "diverging": [
            [
             0,
             "#8e0152"
            ],
            [
             0.1,
             "#c51b7d"
            ],
            [
             0.2,
             "#de77ae"
            ],
            [
             0.3,
             "#f1b6da"
            ],
            [
             0.4,
             "#fde0ef"
            ],
            [
             0.5,
             "#f7f7f7"
            ],
            [
             0.6,
             "#e6f5d0"
            ],
            [
             0.7,
             "#b8e186"
            ],
            [
             0.8,
             "#7fbc41"
            ],
            [
             0.9,
             "#4d9221"
            ],
            [
             1,
             "#276419"
            ]
           ],
           "sequential": [
            [
             0,
             "#0d0887"
            ],
            [
             0.1111111111111111,
             "#46039f"
            ],
            [
             0.2222222222222222,
             "#7201a8"
            ],
            [
             0.3333333333333333,
             "#9c179e"
            ],
            [
             0.4444444444444444,
             "#bd3786"
            ],
            [
             0.5555555555555556,
             "#d8576b"
            ],
            [
             0.6666666666666666,
             "#ed7953"
            ],
            [
             0.7777777777777778,
             "#fb9f3a"
            ],
            [
             0.8888888888888888,
             "#fdca26"
            ],
            [
             1,
             "#f0f921"
            ]
           ],
           "sequentialminus": [
            [
             0,
             "#0d0887"
            ],
            [
             0.1111111111111111,
             "#46039f"
            ],
            [
             0.2222222222222222,
             "#7201a8"
            ],
            [
             0.3333333333333333,
             "#9c179e"
            ],
            [
             0.4444444444444444,
             "#bd3786"
            ],
            [
             0.5555555555555556,
             "#d8576b"
            ],
            [
             0.6666666666666666,
             "#ed7953"
            ],
            [
             0.7777777777777778,
             "#fb9f3a"
            ],
            [
             0.8888888888888888,
             "#fdca26"
            ],
            [
             1,
             "#f0f921"
            ]
           ]
          },
          "colorway": [
           "#636efa",
           "#EF553B",
           "#00cc96",
           "#ab63fa",
           "#FFA15A",
           "#19d3f3",
           "#FF6692",
           "#B6E880",
           "#FF97FF",
           "#FECB52"
          ],
          "font": {
           "color": "#2a3f5f"
          },
          "geo": {
           "bgcolor": "white",
           "lakecolor": "white",
           "landcolor": "#E5ECF6",
           "showlakes": true,
           "showland": true,
           "subunitcolor": "white"
          },
          "hoverlabel": {
           "align": "left"
          },
          "hovermode": "closest",
          "mapbox": {
           "style": "light"
          },
          "paper_bgcolor": "white",
          "plot_bgcolor": "#E5ECF6",
          "polar": {
           "angularaxis": {
            "gridcolor": "white",
            "linecolor": "white",
            "ticks": ""
           },
           "bgcolor": "#E5ECF6",
           "radialaxis": {
            "gridcolor": "white",
            "linecolor": "white",
            "ticks": ""
           }
          },
          "scene": {
           "xaxis": {
            "backgroundcolor": "#E5ECF6",
            "gridcolor": "white",
            "gridwidth": 2,
            "linecolor": "white",
            "showbackground": true,
            "ticks": "",
            "zerolinecolor": "white"
           },
           "yaxis": {
            "backgroundcolor": "#E5ECF6",
            "gridcolor": "white",
            "gridwidth": 2,
            "linecolor": "white",
            "showbackground": true,
            "ticks": "",
            "zerolinecolor": "white"
           },
           "zaxis": {
            "backgroundcolor": "#E5ECF6",
            "gridcolor": "white",
            "gridwidth": 2,
            "linecolor": "white",
            "showbackground": true,
            "ticks": "",
            "zerolinecolor": "white"
           }
          },
          "shapedefaults": {
           "line": {
            "color": "#2a3f5f"
           }
          },
          "ternary": {
           "aaxis": {
            "gridcolor": "white",
            "linecolor": "white",
            "ticks": ""
           },
           "baxis": {
            "gridcolor": "white",
            "linecolor": "white",
            "ticks": ""
           },
           "bgcolor": "#E5ECF6",
           "caxis": {
            "gridcolor": "white",
            "linecolor": "white",
            "ticks": ""
           }
          },
          "title": {
           "x": 0.05
          },
          "xaxis": {
           "automargin": true,
           "gridcolor": "white",
           "linecolor": "white",
           "ticks": "",
           "title": {
            "standoff": 15
           },
           "zerolinecolor": "white",
           "zerolinewidth": 2
          },
          "yaxis": {
           "automargin": true,
           "gridcolor": "white",
           "linecolor": "white",
           "ticks": "",
           "title": {
            "standoff": 15
           },
           "zerolinecolor": "white",
           "zerolinewidth": 2
          }
         }
        },
        "title": {
         "text": "E-commerce Conversion Funnel - Real Data Analysis"
        },
        "width": 900
       }
      }
     },
     "metadata": {},
     "output_type": "display_data"
    }
   ],
   "source": [
    "# Create funnel chart\n",
    "fig = go.Figure()\n",
    "\n",
    "fig.add_trace(go.Funnel(\n",
    "    y=funnel_df['Stage'],\n",
    "    x=funnel_df['Count'],\n",
    "    textinfo=\"value+percent initial\",\n",
    "    textposition=\"inside\",\n",
    "    textfont=dict(color=\"white\", size=12),\n",
    "    connector={\"line\": {\"color\": \"royalblue\", \"dash\": \"dot\", \"width\": 3}},\n",
    "    marker={\"color\": [\"deepskyblue\", \"lightsalmon\", \"tan\", \"teal\", \"silver\", \"gold\"]}\n",
    "))\n",
    "\n",
    "fig.update_layout(\n",
    "    title=\"E-commerce Conversion Funnel - Real Data Analysis\",\n",
    "    font=dict(size=14),\n",
    "    width=900,\n",
    "    height=700\n",
    ")\n",
    "\n",
    "fig.show()"
   ]
  },
  {
   "cell_type": "code",
   "execution_count": 7,
   "id": "208b5c50",
   "metadata": {},
   "outputs": [],
   "source": [
    "def calculate_detailed_funnel_metrics(data):\n",
    "    \"\"\"Calculate detailed funnel metrics for a given dataset\"\"\"\n",
    "    total_sessions = len(data)\n",
    "    engaged = len(data[(data['Administrative'] > 0) | (data['Informational'] > 0) | (data['ProductRelated'] > 0)])\n",
    "    product_interest = len(data[data['ProductRelated'] > 0])\n",
    "    deep_engagement = len(data[(data['ProductRelated'] > 2) | (data['ProductRelated_Duration'] > 300)])\n",
    "    high_intent = len(data[(data['PageValues'] > 0) | (data['BounceRates'] < 0.02)])\n",
    "    purchase = data['Revenue'].sum()\n",
    "    \n",
    "    return {\n",
    "        'Total_Sessions': total_sessions,\n",
    "        'Engaged': engaged,\n",
    "        'Product_Interest': product_interest,\n",
    "        'Deep_Engagement': deep_engagement,\n",
    "        'High_Intent': high_intent,\n",
    "        'Purchase': purchase,\n",
    "        'Engagement_Rate': (engaged / total_sessions) * 100 if total_sessions > 0 else 0,\n",
    "        'Product_Interest_Rate': (product_interest / total_sessions) * 100 if total_sessions > 0 else 0,\n",
    "        'Deep_Engagement_Rate': (deep_engagement / total_sessions) * 100 if total_sessions > 0 else 0,\n",
    "        'High_Intent_Rate': (high_intent / total_sessions) * 100 if total_sessions > 0 else 0,\n",
    "        'Conversion_Rate': (purchase / total_sessions) * 100 if total_sessions > 0 else 0,\n",
    "        'Avg_Page_Value': data['PageValues'].mean(),\n",
    "        'Avg_Session_Duration': data['Total_Duration'].mean(),\n",
    "        'Avg_Pages_Per_Session': data['Total_Pages'].mean()\n",
    "    }\n"
   ]
  },
  {
   "cell_type": "code",
   "execution_count": 9,
   "id": "c76c6dcc",
   "metadata": {},
   "outputs": [
    {
     "name": "stdout",
     "output_type": "stream",
     "text": [
      "Funnel Analysis by Visitor Type:\n"
     ]
    },
    {
     "data": {
      "text/html": [
       "<div>\n",
       "<style scoped>\n",
       "    .dataframe tbody tr th:only-of-type {\n",
       "        vertical-align: middle;\n",
       "    }\n",
       "\n",
       "    .dataframe tbody tr th {\n",
       "        vertical-align: top;\n",
       "    }\n",
       "\n",
       "    .dataframe thead th {\n",
       "        text-align: right;\n",
       "    }\n",
       "</style>\n",
       "<table border=\"1\" class=\"dataframe\">\n",
       "  <thead>\n",
       "    <tr style=\"text-align: right;\">\n",
       "      <th></th>\n",
       "      <th>Total_Sessions</th>\n",
       "      <th>Engaged</th>\n",
       "      <th>Product_Interest</th>\n",
       "      <th>Deep_Engagement</th>\n",
       "      <th>High_Intent</th>\n",
       "      <th>Purchase</th>\n",
       "      <th>Engagement_Rate</th>\n",
       "      <th>Product_Interest_Rate</th>\n",
       "      <th>Deep_Engagement_Rate</th>\n",
       "      <th>High_Intent_Rate</th>\n",
       "      <th>Conversion_Rate</th>\n",
       "      <th>Avg_Page_Value</th>\n",
       "      <th>Avg_Session_Duration</th>\n",
       "      <th>Avg_Pages_Per_Session</th>\n",
       "    </tr>\n",
       "  </thead>\n",
       "  <tbody>\n",
       "    <tr>\n",
       "      <th>Returning_Visitor</th>\n",
       "      <td>10551.0</td>\n",
       "      <td>10545.0</td>\n",
       "      <td>10520.0</td>\n",
       "      <td>9601.0</td>\n",
       "      <td>8047.0</td>\n",
       "      <td>1470.0</td>\n",
       "      <td>99.94</td>\n",
       "      <td>99.71</td>\n",
       "      <td>91.00</td>\n",
       "      <td>76.27</td>\n",
       "      <td>13.93</td>\n",
       "      <td>5.01</td>\n",
       "      <td>1405.71</td>\n",
       "      <td>36.90</td>\n",
       "    </tr>\n",
       "    <tr>\n",
       "      <th>New_Visitor</th>\n",
       "      <td>1694.0</td>\n",
       "      <td>1694.0</td>\n",
       "      <td>1687.0</td>\n",
       "      <td>1573.0</td>\n",
       "      <td>1614.0</td>\n",
       "      <td>422.0</td>\n",
       "      <td>100.00</td>\n",
       "      <td>99.59</td>\n",
       "      <td>92.86</td>\n",
       "      <td>95.28</td>\n",
       "      <td>24.91</td>\n",
       "      <td>10.77</td>\n",
       "      <td>747.54</td>\n",
       "      <td>20.94</td>\n",
       "    </tr>\n",
       "    <tr>\n",
       "      <th>Other</th>\n",
       "      <td>85.0</td>\n",
       "      <td>85.0</td>\n",
       "      <td>85.0</td>\n",
       "      <td>58.0</td>\n",
       "      <td>68.0</td>\n",
       "      <td>16.0</td>\n",
       "      <td>100.00</td>\n",
       "      <td>100.00</td>\n",
       "      <td>68.24</td>\n",
       "      <td>80.00</td>\n",
       "      <td>18.82</td>\n",
       "      <td>18.19</td>\n",
       "      <td>644.79</td>\n",
       "      <td>14.12</td>\n",
       "    </tr>\n",
       "  </tbody>\n",
       "</table>\n",
       "</div>"
      ],
      "text/plain": [
       "                   Total_Sessions  Engaged  Product_Interest  Deep_Engagement  \\\n",
       "Returning_Visitor         10551.0  10545.0           10520.0           9601.0   \n",
       "New_Visitor                1694.0   1694.0            1687.0           1573.0   \n",
       "Other                        85.0     85.0              85.0             58.0   \n",
       "\n",
       "                   High_Intent  Purchase  Engagement_Rate  \\\n",
       "Returning_Visitor       8047.0    1470.0            99.94   \n",
       "New_Visitor             1614.0     422.0           100.00   \n",
       "Other                     68.0      16.0           100.00   \n",
       "\n",
       "                   Product_Interest_Rate  Deep_Engagement_Rate  \\\n",
       "Returning_Visitor                  99.71                 91.00   \n",
       "New_Visitor                        99.59                 92.86   \n",
       "Other                             100.00                 68.24   \n",
       "\n",
       "                   High_Intent_Rate  Conversion_Rate  Avg_Page_Value  \\\n",
       "Returning_Visitor             76.27            13.93            5.01   \n",
       "New_Visitor                   95.28            24.91           10.77   \n",
       "Other                         80.00            18.82           18.19   \n",
       "\n",
       "                   Avg_Session_Duration  Avg_Pages_Per_Session  \n",
       "Returning_Visitor               1405.71                  36.90  \n",
       "New_Visitor                      747.54                  20.94  \n",
       "Other                            644.79                  14.12  "
      ]
     },
     "execution_count": 9,
     "metadata": {},
     "output_type": "execute_result"
    }
   ],
   "source": [
    "# Analyze by Visitor Type\n",
    "print(\"Funnel Analysis by Visitor Type:\")\n",
    "visitor_funnel = {}\n",
    "for visitor_type in df['VisitorType'].unique():\n",
    "    visitor_data = df[df['VisitorType'] == visitor_type]\n",
    "    visitor_funnel[visitor_type] = calculate_detailed_funnel_metrics(visitor_data)\n",
    "\n",
    "visitor_funnel_df = pd.DataFrame(visitor_funnel).T\n",
    "visitor_funnel_df.round(2)\n"
   ]
  },
  {
   "cell_type": "code",
   "execution_count": 10,
   "id": "f4afbe45",
   "metadata": {},
   "outputs": [
    {
     "name": "stdout",
     "output_type": "stream",
     "text": [
      "\n",
      "Funnel Analysis by Month:\n"
     ]
    },
    {
     "data": {
      "text/html": [
       "<div>\n",
       "<style scoped>\n",
       "    .dataframe tbody tr th:only-of-type {\n",
       "        vertical-align: middle;\n",
       "    }\n",
       "\n",
       "    .dataframe tbody tr th {\n",
       "        vertical-align: top;\n",
       "    }\n",
       "\n",
       "    .dataframe thead th {\n",
       "        text-align: right;\n",
       "    }\n",
       "</style>\n",
       "<table border=\"1\" class=\"dataframe\">\n",
       "  <thead>\n",
       "    <tr style=\"text-align: right;\">\n",
       "      <th></th>\n",
       "      <th>Total_Sessions</th>\n",
       "      <th>Engaged</th>\n",
       "      <th>Product_Interest</th>\n",
       "      <th>Deep_Engagement</th>\n",
       "      <th>High_Intent</th>\n",
       "      <th>Purchase</th>\n",
       "      <th>Engagement_Rate</th>\n",
       "      <th>Product_Interest_Rate</th>\n",
       "      <th>Deep_Engagement_Rate</th>\n",
       "      <th>High_Intent_Rate</th>\n",
       "      <th>Conversion_Rate</th>\n",
       "      <th>Avg_Page_Value</th>\n",
       "      <th>Avg_Session_Duration</th>\n",
       "      <th>Avg_Pages_Per_Session</th>\n",
       "    </tr>\n",
       "  </thead>\n",
       "  <tbody>\n",
       "    <tr>\n",
       "      <th>Nov</th>\n",
       "      <td>2998.0</td>\n",
       "      <td>2995.0</td>\n",
       "      <td>2986.0</td>\n",
       "      <td>2788.0</td>\n",
       "      <td>2494.0</td>\n",
       "      <td>760.0</td>\n",
       "      <td>99.90</td>\n",
       "      <td>99.60</td>\n",
       "      <td>93.00</td>\n",
       "      <td>83.19</td>\n",
       "      <td>25.35</td>\n",
       "      <td>7.13</td>\n",
       "      <td>1892.97</td>\n",
       "      <td>49.30</td>\n",
       "    </tr>\n",
       "    <tr>\n",
       "      <th>Mar</th>\n",
       "      <td>1907.0</td>\n",
       "      <td>1907.0</td>\n",
       "      <td>1904.0</td>\n",
       "      <td>1687.0</td>\n",
       "      <td>1534.0</td>\n",
       "      <td>192.0</td>\n",
       "      <td>100.00</td>\n",
       "      <td>99.84</td>\n",
       "      <td>88.46</td>\n",
       "      <td>80.44</td>\n",
       "      <td>10.07</td>\n",
       "      <td>3.96</td>\n",
       "      <td>914.19</td>\n",
       "      <td>22.12</td>\n",
       "    </tr>\n",
       "    <tr>\n",
       "      <th>Dec</th>\n",
       "      <td>1727.0</td>\n",
       "      <td>1727.0</td>\n",
       "      <td>1723.0</td>\n",
       "      <td>1552.0</td>\n",
       "      <td>1398.0</td>\n",
       "      <td>216.0</td>\n",
       "      <td>100.00</td>\n",
       "      <td>99.77</td>\n",
       "      <td>89.87</td>\n",
       "      <td>80.95</td>\n",
       "      <td>12.51</td>\n",
       "      <td>6.83</td>\n",
       "      <td>1228.17</td>\n",
       "      <td>30.70</td>\n",
       "    </tr>\n",
       "    <tr>\n",
       "      <th>May</th>\n",
       "      <td>3364.0</td>\n",
       "      <td>3362.0</td>\n",
       "      <td>3353.0</td>\n",
       "      <td>3067.0</td>\n",
       "      <td>2462.0</td>\n",
       "      <td>365.0</td>\n",
       "      <td>99.94</td>\n",
       "      <td>99.67</td>\n",
       "      <td>91.17</td>\n",
       "      <td>73.19</td>\n",
       "      <td>10.85</td>\n",
       "      <td>5.43</td>\n",
       "      <td>1078.53</td>\n",
       "      <td>28.88</td>\n",
       "    </tr>\n",
       "    <tr>\n",
       "      <th>Aug</th>\n",
       "      <td>433.0</td>\n",
       "      <td>433.0</td>\n",
       "      <td>432.0</td>\n",
       "      <td>407.0</td>\n",
       "      <td>352.0</td>\n",
       "      <td>76.0</td>\n",
       "      <td>100.00</td>\n",
       "      <td>99.77</td>\n",
       "      <td>94.00</td>\n",
       "      <td>81.29</td>\n",
       "      <td>17.55</td>\n",
       "      <td>5.94</td>\n",
       "      <td>1414.89</td>\n",
       "      <td>41.94</td>\n",
       "    </tr>\n",
       "    <tr>\n",
       "      <th>Jul</th>\n",
       "      <td>432.0</td>\n",
       "      <td>432.0</td>\n",
       "      <td>432.0</td>\n",
       "      <td>404.0</td>\n",
       "      <td>320.0</td>\n",
       "      <td>66.0</td>\n",
       "      <td>100.00</td>\n",
       "      <td>100.00</td>\n",
       "      <td>93.52</td>\n",
       "      <td>74.07</td>\n",
       "      <td>15.28</td>\n",
       "      <td>4.10</td>\n",
       "      <td>1342.00</td>\n",
       "      <td>39.35</td>\n",
       "    </tr>\n",
       "    <tr>\n",
       "      <th>Feb</th>\n",
       "      <td>184.0</td>\n",
       "      <td>184.0</td>\n",
       "      <td>183.0</td>\n",
       "      <td>134.0</td>\n",
       "      <td>122.0</td>\n",
       "      <td>3.0</td>\n",
       "      <td>100.00</td>\n",
       "      <td>99.46</td>\n",
       "      <td>72.83</td>\n",
       "      <td>66.30</td>\n",
       "      <td>1.63</td>\n",
       "      <td>0.89</td>\n",
       "      <td>490.27</td>\n",
       "      <td>11.82</td>\n",
       "    </tr>\n",
       "    <tr>\n",
       "      <th>June</th>\n",
       "      <td>288.0</td>\n",
       "      <td>287.0</td>\n",
       "      <td>287.0</td>\n",
       "      <td>258.0</td>\n",
       "      <td>186.0</td>\n",
       "      <td>29.0</td>\n",
       "      <td>99.65</td>\n",
       "      <td>99.65</td>\n",
       "      <td>89.58</td>\n",
       "      <td>64.58</td>\n",
       "      <td>10.07</td>\n",
       "      <td>3.39</td>\n",
       "      <td>1292.96</td>\n",
       "      <td>38.90</td>\n",
       "    </tr>\n",
       "    <tr>\n",
       "      <th>Sep</th>\n",
       "      <td>448.0</td>\n",
       "      <td>448.0</td>\n",
       "      <td>447.0</td>\n",
       "      <td>418.0</td>\n",
       "      <td>389.0</td>\n",
       "      <td>86.0</td>\n",
       "      <td>100.00</td>\n",
       "      <td>99.78</td>\n",
       "      <td>93.30</td>\n",
       "      <td>86.83</td>\n",
       "      <td>19.20</td>\n",
       "      <td>7.56</td>\n",
       "      <td>1398.45</td>\n",
       "      <td>37.01</td>\n",
       "    </tr>\n",
       "    <tr>\n",
       "      <th>Oct</th>\n",
       "      <td>549.0</td>\n",
       "      <td>549.0</td>\n",
       "      <td>545.0</td>\n",
       "      <td>517.0</td>\n",
       "      <td>472.0</td>\n",
       "      <td>115.0</td>\n",
       "      <td>100.00</td>\n",
       "      <td>99.27</td>\n",
       "      <td>94.17</td>\n",
       "      <td>85.97</td>\n",
       "      <td>20.95</td>\n",
       "      <td>8.65</td>\n",
       "      <td>1281.58</td>\n",
       "      <td>37.77</td>\n",
       "    </tr>\n",
       "  </tbody>\n",
       "</table>\n",
       "</div>"
      ],
      "text/plain": [
       "      Total_Sessions  Engaged  Product_Interest  Deep_Engagement  High_Intent  \\\n",
       "Nov           2998.0   2995.0            2986.0           2788.0       2494.0   \n",
       "Mar           1907.0   1907.0            1904.0           1687.0       1534.0   \n",
       "Dec           1727.0   1727.0            1723.0           1552.0       1398.0   \n",
       "May           3364.0   3362.0            3353.0           3067.0       2462.0   \n",
       "Aug            433.0    433.0             432.0            407.0        352.0   \n",
       "Jul            432.0    432.0             432.0            404.0        320.0   \n",
       "Feb            184.0    184.0             183.0            134.0        122.0   \n",
       "June           288.0    287.0             287.0            258.0        186.0   \n",
       "Sep            448.0    448.0             447.0            418.0        389.0   \n",
       "Oct            549.0    549.0             545.0            517.0        472.0   \n",
       "\n",
       "      Purchase  Engagement_Rate  Product_Interest_Rate  Deep_Engagement_Rate  \\\n",
       "Nov      760.0            99.90                  99.60                 93.00   \n",
       "Mar      192.0           100.00                  99.84                 88.46   \n",
       "Dec      216.0           100.00                  99.77                 89.87   \n",
       "May      365.0            99.94                  99.67                 91.17   \n",
       "Aug       76.0           100.00                  99.77                 94.00   \n",
       "Jul       66.0           100.00                 100.00                 93.52   \n",
       "Feb        3.0           100.00                  99.46                 72.83   \n",
       "June      29.0            99.65                  99.65                 89.58   \n",
       "Sep       86.0           100.00                  99.78                 93.30   \n",
       "Oct      115.0           100.00                  99.27                 94.17   \n",
       "\n",
       "      High_Intent_Rate  Conversion_Rate  Avg_Page_Value  Avg_Session_Duration  \\\n",
       "Nov              83.19            25.35            7.13               1892.97   \n",
       "Mar              80.44            10.07            3.96                914.19   \n",
       "Dec              80.95            12.51            6.83               1228.17   \n",
       "May              73.19            10.85            5.43               1078.53   \n",
       "Aug              81.29            17.55            5.94               1414.89   \n",
       "Jul              74.07            15.28            4.10               1342.00   \n",
       "Feb              66.30             1.63            0.89                490.27   \n",
       "June             64.58            10.07            3.39               1292.96   \n",
       "Sep              86.83            19.20            7.56               1398.45   \n",
       "Oct              85.97            20.95            8.65               1281.58   \n",
       "\n",
       "      Avg_Pages_Per_Session  \n",
       "Nov                   49.30  \n",
       "Mar                   22.12  \n",
       "Dec                   30.70  \n",
       "May                   28.88  \n",
       "Aug                   41.94  \n",
       "Jul                   39.35  \n",
       "Feb                   11.82  \n",
       "June                  38.90  \n",
       "Sep                   37.01  \n",
       "Oct                   37.77  "
      ]
     },
     "execution_count": 10,
     "metadata": {},
     "output_type": "execute_result"
    }
   ],
   "source": [
    "# Analyze by Month\n",
    "print(\"\\nFunnel Analysis by Month:\")\n",
    "month_funnel = {}\n",
    "for month in df['Month'].unique():\n",
    "    month_data = df[df['Month'] == month]\n",
    "    month_funnel[month] = calculate_detailed_funnel_metrics(month_data)\n",
    "\n",
    "month_funnel_df = pd.DataFrame(month_funnel).T\n",
    "month_funnel_df.round(2)\n"
   ]
  },
  {
   "cell_type": "code",
   "execution_count": 11,
   "id": "123d168d",
   "metadata": {},
   "outputs": [
    {
     "name": "stdout",
     "output_type": "stream",
     "text": [
      "\n",
      "Funnel Analysis by Weekend vs Weekday:\n"
     ]
    },
    {
     "data": {
      "text/html": [
       "<div>\n",
       "<style scoped>\n",
       "    .dataframe tbody tr th:only-of-type {\n",
       "        vertical-align: middle;\n",
       "    }\n",
       "\n",
       "    .dataframe tbody tr th {\n",
       "        vertical-align: top;\n",
       "    }\n",
       "\n",
       "    .dataframe thead th {\n",
       "        text-align: right;\n",
       "    }\n",
       "</style>\n",
       "<table border=\"1\" class=\"dataframe\">\n",
       "  <thead>\n",
       "    <tr style=\"text-align: right;\">\n",
       "      <th></th>\n",
       "      <th>Total_Sessions</th>\n",
       "      <th>Engaged</th>\n",
       "      <th>Product_Interest</th>\n",
       "      <th>Deep_Engagement</th>\n",
       "      <th>High_Intent</th>\n",
       "      <th>Purchase</th>\n",
       "      <th>Engagement_Rate</th>\n",
       "      <th>Product_Interest_Rate</th>\n",
       "      <th>Deep_Engagement_Rate</th>\n",
       "      <th>High_Intent_Rate</th>\n",
       "      <th>Conversion_Rate</th>\n",
       "      <th>Avg_Page_Value</th>\n",
       "      <th>Avg_Session_Duration</th>\n",
       "      <th>Avg_Pages_Per_Session</th>\n",
       "    </tr>\n",
       "  </thead>\n",
       "  <tbody>\n",
       "    <tr>\n",
       "      <th>Weekend</th>\n",
       "      <td>2868.0</td>\n",
       "      <td>2867.0</td>\n",
       "      <td>2855.0</td>\n",
       "      <td>2650.0</td>\n",
       "      <td>2356.0</td>\n",
       "      <td>499.0</td>\n",
       "      <td>99.97</td>\n",
       "      <td>99.55</td>\n",
       "      <td>92.4</td>\n",
       "      <td>82.15</td>\n",
       "      <td>17.40</td>\n",
       "      <td>6.29</td>\n",
       "      <td>1346.42</td>\n",
       "      <td>36.09</td>\n",
       "    </tr>\n",
       "    <tr>\n",
       "      <th>Weekday</th>\n",
       "      <td>9462.0</td>\n",
       "      <td>9457.0</td>\n",
       "      <td>9437.0</td>\n",
       "      <td>8582.0</td>\n",
       "      <td>7373.0</td>\n",
       "      <td>1409.0</td>\n",
       "      <td>99.95</td>\n",
       "      <td>99.74</td>\n",
       "      <td>90.7</td>\n",
       "      <td>77.92</td>\n",
       "      <td>14.89</td>\n",
       "      <td>5.77</td>\n",
       "      <td>1299.01</td>\n",
       "      <td>34.08</td>\n",
       "    </tr>\n",
       "  </tbody>\n",
       "</table>\n",
       "</div>"
      ],
      "text/plain": [
       "         Total_Sessions  Engaged  Product_Interest  Deep_Engagement  \\\n",
       "Weekend          2868.0   2867.0            2855.0           2650.0   \n",
       "Weekday          9462.0   9457.0            9437.0           8582.0   \n",
       "\n",
       "         High_Intent  Purchase  Engagement_Rate  Product_Interest_Rate  \\\n",
       "Weekend       2356.0     499.0            99.97                  99.55   \n",
       "Weekday       7373.0    1409.0            99.95                  99.74   \n",
       "\n",
       "         Deep_Engagement_Rate  High_Intent_Rate  Conversion_Rate  \\\n",
       "Weekend                  92.4             82.15            17.40   \n",
       "Weekday                  90.7             77.92            14.89   \n",
       "\n",
       "         Avg_Page_Value  Avg_Session_Duration  Avg_Pages_Per_Session  \n",
       "Weekend            6.29               1346.42                  36.09  \n",
       "Weekday            5.77               1299.01                  34.08  "
      ]
     },
     "execution_count": 11,
     "metadata": {},
     "output_type": "execute_result"
    }
   ],
   "source": [
    "# Analyze by Weekend vs Weekday\n",
    "print(\"\\nFunnel Analysis by Weekend vs Weekday:\")\n",
    "weekend_funnel = {}\n",
    "for weekend in [True, False]:\n",
    "    weekend_data = df[df['Weekend'] == weekend]\n",
    "    weekend_label = 'Weekend' if weekend else 'Weekday'\n",
    "    weekend_funnel[weekend_label] = calculate_detailed_funnel_metrics(weekend_data)\n",
    "\n",
    "weekend_funnel_df = pd.DataFrame(weekend_funnel).T\n",
    "weekend_funnel_df.round(2)"
   ]
  },
  {
   "cell_type": "code",
   "execution_count": 12,
   "id": "d6a4500f",
   "metadata": {},
   "outputs": [],
   "source": [
    "# Create A/B test groups based on session characteristics\n",
    "# Group A: Sessions with even Session IDs (if available) or random assignment\n",
    "np.random.seed(42)\n",
    "df['AB_Test_Group'] = np.random.choice(['A', 'B'], len(df))\n"
   ]
  },
  {
   "cell_type": "code",
   "execution_count": 14,
   "id": "27c1f17f",
   "metadata": {},
   "outputs": [
    {
     "name": "stdout",
     "output_type": "stream",
     "text": [
      "A/B Test Summary:\n"
     ]
    },
    {
     "data": {
      "text/html": [
       "<div>\n",
       "<style scoped>\n",
       "    .dataframe tbody tr th:only-of-type {\n",
       "        vertical-align: middle;\n",
       "    }\n",
       "\n",
       "    .dataframe tbody tr th {\n",
       "        vertical-align: top;\n",
       "    }\n",
       "\n",
       "    .dataframe thead th {\n",
       "        text-align: right;\n",
       "    }\n",
       "</style>\n",
       "<table border=\"1\" class=\"dataframe\">\n",
       "  <thead>\n",
       "    <tr style=\"text-align: right;\">\n",
       "      <th></th>\n",
       "      <th>Sessions</th>\n",
       "      <th>Total_Conversions</th>\n",
       "      <th>Conversion_Rate</th>\n",
       "      <th>Avg_Page_Value</th>\n",
       "      <th>Avg_Pages</th>\n",
       "      <th>Avg_Duration</th>\n",
       "      <th>Avg_Bounce_Rate</th>\n",
       "      <th>Avg_Exit_Rate</th>\n",
       "    </tr>\n",
       "    <tr>\n",
       "      <th>AB_Test_Group</th>\n",
       "      <th></th>\n",
       "      <th></th>\n",
       "      <th></th>\n",
       "      <th></th>\n",
       "      <th></th>\n",
       "      <th></th>\n",
       "      <th></th>\n",
       "      <th></th>\n",
       "    </tr>\n",
       "  </thead>\n",
       "  <tbody>\n",
       "    <tr>\n",
       "      <th>A</th>\n",
       "      <td>6171</td>\n",
       "      <td>921</td>\n",
       "      <td>0.1492</td>\n",
       "      <td>5.3951</td>\n",
       "      <td>34.4294</td>\n",
       "      <td>1295.7280</td>\n",
       "      <td>0.0227</td>\n",
       "      <td>0.0438</td>\n",
       "    </tr>\n",
       "    <tr>\n",
       "      <th>B</th>\n",
       "      <td>6159</td>\n",
       "      <td>987</td>\n",
       "      <td>0.1603</td>\n",
       "      <td>6.3843</td>\n",
       "      <td>34.6712</td>\n",
       "      <td>1324.3744</td>\n",
       "      <td>0.0217</td>\n",
       "      <td>0.0423</td>\n",
       "    </tr>\n",
       "  </tbody>\n",
       "</table>\n",
       "</div>"
      ],
      "text/plain": [
       "               Sessions  Total_Conversions  Conversion_Rate  Avg_Page_Value  \\\n",
       "AB_Test_Group                                                                 \n",
       "A                  6171                921           0.1492          5.3951   \n",
       "B                  6159                987           0.1603          6.3843   \n",
       "\n",
       "               Avg_Pages  Avg_Duration  Avg_Bounce_Rate  Avg_Exit_Rate  \n",
       "AB_Test_Group                                                           \n",
       "A                34.4294     1295.7280           0.0227         0.0438  \n",
       "B                34.6712     1324.3744           0.0217         0.0423  "
      ]
     },
     "execution_count": 14,
     "metadata": {},
     "output_type": "execute_result"
    }
   ],
   "source": [
    "# A/B Testing Analysis\n",
    "ab_summary = df.groupby('AB_Test_Group').agg({\n",
    "    'Revenue': ['count', 'sum', 'mean'],\n",
    "    'PageValues': 'mean',\n",
    "    'Total_Pages': 'mean',\n",
    "    'Total_Duration': 'mean',\n",
    "    'BounceRates': 'mean',\n",
    "    'ExitRates': 'mean'\n",
    "}).round(4)\n",
    "\n",
    "ab_summary.columns = ['Sessions', 'Total_Conversions', 'Conversion_Rate', 'Avg_Page_Value', \n",
    "                     'Avg_Pages', 'Avg_Duration', 'Avg_Bounce_Rate', 'Avg_Exit_Rate']\n",
    "print(\"A/B Test Summary:\")\n",
    "ab_summary"
   ]
  },
  {
   "cell_type": "code",
   "execution_count": 15,
   "id": "ac76ea58",
   "metadata": {},
   "outputs": [],
   "source": [
    "# Statistical significance testing\n",
    "group_a = df[df['AB_Test_Group'] == 'A']\n",
    "group_b = df[df['AB_Test_Group'] == 'B']\n",
    "\n",
    "# Chi-square test for conversion rate\n",
    "contingency_table = pd.crosstab(df['AB_Test_Group'], df['Revenue'])\n",
    "chi2_stat, p_value_chi2, dof, expected = chi2_contingency(contingency_table)\n"
   ]
  },
  {
   "cell_type": "code",
   "execution_count": 16,
   "id": "ee4a019f",
   "metadata": {},
   "outputs": [
    {
     "name": "stdout",
     "output_type": "stream",
     "text": [
      "\n",
      "Conversion Rate A/B Test:\n",
      "Group A Conversion Rate: 0.1492\n",
      "Group B Conversion Rate: 0.1603\n",
      "Chi-square statistic: 2.7716\n",
      "P-value: 0.0960\n",
      "Statistical significance: No\n",
      "\n",
      "Page Values A/B Test:\n",
      "Group A Avg Page Value: 5.40\n",
      "Group B Avg Page Value: 6.38\n",
      "T-statistic: -2.9587\n",
      "P-value: 0.0031\n",
      "Statistical significance: Yes\n"
     ]
    }
   ],
   "source": [
    "print(f\"\\nConversion Rate A/B Test:\")\n",
    "print(f\"Group A Conversion Rate: {group_a['Revenue'].mean():.4f}\")\n",
    "print(f\"Group B Conversion Rate: {group_b['Revenue'].mean():.4f}\")\n",
    "print(f\"Chi-square statistic: {chi2_stat:.4f}\")\n",
    "print(f\"P-value: {p_value_chi2:.4f}\")\n",
    "print(f\"Statistical significance: {'Yes' if p_value_chi2 < 0.05 else 'No'}\")\n",
    "\n",
    "# T-test for PageValues (proxy for revenue/engagement)\n",
    "t_stat_pv, p_value_pv = stats.ttest_ind(group_a['PageValues'], group_b['PageValues'])\n",
    "print(f\"\\nPage Values A/B Test:\")\n",
    "print(f\"Group A Avg Page Value: {group_a['PageValues'].mean():.2f}\")\n",
    "print(f\"Group B Avg Page Value: {group_b['PageValues'].mean():.2f}\")\n",
    "print(f\"T-statistic: {t_stat_pv:.4f}\")\n",
    "print(f\"P-value: {p_value_pv:.4f}\")\n",
    "print(f\"Statistical significance: {'Yes' if p_value_pv < 0.05 else 'No'}\")\n"
   ]
  },
  {
   "cell_type": "code",
   "execution_count": 17,
   "id": "65aea502",
   "metadata": {},
   "outputs": [
    {
     "data": {
      "application/vnd.plotly.v1+json": {
       "config": {
        "plotlyServerURL": "https://plot.ly"
       },
       "data": [
        {
         "marker": {
          "color": "lightblue"
         },
         "name": "Returning_Visitor",
         "type": "funnel",
         "x": [
          10551,
          10545,
          10520,
          9601,
          8047,
          1470
         ],
         "xaxis": "x",
         "y": [
          "Sessions",
          "Engaged",
          "Product Interest",
          "Deep Engagement",
          "High Intent",
          "Purchase"
         ],
         "yaxis": "y"
        },
        {
         "marker": {
          "color": "lightgreen"
         },
         "name": "New_Visitor",
         "type": "funnel",
         "x": [
          1694,
          1694,
          1687,
          1573,
          1614,
          422
         ],
         "xaxis": "x2",
         "y": [
          "Sessions",
          "Engaged",
          "Product Interest",
          "Deep Engagement",
          "High Intent",
          "Purchase"
         ],
         "yaxis": "y2"
        },
        {
         "marker": {
          "color": "lightcoral"
         },
         "name": "Other",
         "type": "funnel",
         "x": [
          85,
          85,
          85,
          58,
          68,
          16
         ],
         "xaxis": "x3",
         "y": [
          "Sessions",
          "Engaged",
          "Product Interest",
          "Deep Engagement",
          "High Intent",
          "Purchase"
         ],
         "yaxis": "y3"
        }
       ],
       "layout": {
        "annotations": [
         {
          "font": {
           "size": 16
          },
          "showarrow": false,
          "text": "Returning_Visitor",
          "x": 0.14444444444444446,
          "xanchor": "center",
          "xref": "paper",
          "y": 1,
          "yanchor": "bottom",
          "yref": "paper"
         },
         {
          "font": {
           "size": 16
          },
          "showarrow": false,
          "text": "New_Visitor",
          "x": 0.5,
          "xanchor": "center",
          "xref": "paper",
          "y": 1,
          "yanchor": "bottom",
          "yref": "paper"
         },
         {
          "font": {
           "size": 16
          },
          "showarrow": false,
          "text": "Other",
          "x": 0.8555555555555556,
          "xanchor": "center",
          "xref": "paper",
          "y": 1,
          "yanchor": "bottom",
          "yref": "paper"
         }
        ],
        "height": 500,
        "showlegend": false,
        "template": {
         "data": {
          "bar": [
           {
            "error_x": {
             "color": "#2a3f5f"
            },
            "error_y": {
             "color": "#2a3f5f"
            },
            "marker": {
             "line": {
              "color": "#E5ECF6",
              "width": 0.5
             },
             "pattern": {
              "fillmode": "overlay",
              "size": 10,
              "solidity": 0.2
             }
            },
            "type": "bar"
           }
          ],
          "barpolar": [
           {
            "marker": {
             "line": {
              "color": "#E5ECF6",
              "width": 0.5
             },
             "pattern": {
              "fillmode": "overlay",
              "size": 10,
              "solidity": 0.2
             }
            },
            "type": "barpolar"
           }
          ],
          "carpet": [
           {
            "aaxis": {
             "endlinecolor": "#2a3f5f",
             "gridcolor": "white",
             "linecolor": "white",
             "minorgridcolor": "white",
             "startlinecolor": "#2a3f5f"
            },
            "baxis": {
             "endlinecolor": "#2a3f5f",
             "gridcolor": "white",
             "linecolor": "white",
             "minorgridcolor": "white",
             "startlinecolor": "#2a3f5f"
            },
            "type": "carpet"
           }
          ],
          "choropleth": [
           {
            "colorbar": {
             "outlinewidth": 0,
             "ticks": ""
            },
            "type": "choropleth"
           }
          ],
          "contour": [
           {
            "colorbar": {
             "outlinewidth": 0,
             "ticks": ""
            },
            "colorscale": [
             [
              0,
              "#0d0887"
             ],
             [
              0.1111111111111111,
              "#46039f"
             ],
             [
              0.2222222222222222,
              "#7201a8"
             ],
             [
              0.3333333333333333,
              "#9c179e"
             ],
             [
              0.4444444444444444,
              "#bd3786"
             ],
             [
              0.5555555555555556,
              "#d8576b"
             ],
             [
              0.6666666666666666,
              "#ed7953"
             ],
             [
              0.7777777777777778,
              "#fb9f3a"
             ],
             [
              0.8888888888888888,
              "#fdca26"
             ],
             [
              1,
              "#f0f921"
             ]
            ],
            "type": "contour"
           }
          ],
          "contourcarpet": [
           {
            "colorbar": {
             "outlinewidth": 0,
             "ticks": ""
            },
            "type": "contourcarpet"
           }
          ],
          "heatmap": [
           {
            "colorbar": {
             "outlinewidth": 0,
             "ticks": ""
            },
            "colorscale": [
             [
              0,
              "#0d0887"
             ],
             [
              0.1111111111111111,
              "#46039f"
             ],
             [
              0.2222222222222222,
              "#7201a8"
             ],
             [
              0.3333333333333333,
              "#9c179e"
             ],
             [
              0.4444444444444444,
              "#bd3786"
             ],
             [
              0.5555555555555556,
              "#d8576b"
             ],
             [
              0.6666666666666666,
              "#ed7953"
             ],
             [
              0.7777777777777778,
              "#fb9f3a"
             ],
             [
              0.8888888888888888,
              "#fdca26"
             ],
             [
              1,
              "#f0f921"
             ]
            ],
            "type": "heatmap"
           }
          ],
          "histogram": [
           {
            "marker": {
             "pattern": {
              "fillmode": "overlay",
              "size": 10,
              "solidity": 0.2
             }
            },
            "type": "histogram"
           }
          ],
          "histogram2d": [
           {
            "colorbar": {
             "outlinewidth": 0,
             "ticks": ""
            },
            "colorscale": [
             [
              0,
              "#0d0887"
             ],
             [
              0.1111111111111111,
              "#46039f"
             ],
             [
              0.2222222222222222,
              "#7201a8"
             ],
             [
              0.3333333333333333,
              "#9c179e"
             ],
             [
              0.4444444444444444,
              "#bd3786"
             ],
             [
              0.5555555555555556,
              "#d8576b"
             ],
             [
              0.6666666666666666,
              "#ed7953"
             ],
             [
              0.7777777777777778,
              "#fb9f3a"
             ],
             [
              0.8888888888888888,
              "#fdca26"
             ],
             [
              1,
              "#f0f921"
             ]
            ],
            "type": "histogram2d"
           }
          ],
          "histogram2dcontour": [
           {
            "colorbar": {
             "outlinewidth": 0,
             "ticks": ""
            },
            "colorscale": [
             [
              0,
              "#0d0887"
             ],
             [
              0.1111111111111111,
              "#46039f"
             ],
             [
              0.2222222222222222,
              "#7201a8"
             ],
             [
              0.3333333333333333,
              "#9c179e"
             ],
             [
              0.4444444444444444,
              "#bd3786"
             ],
             [
              0.5555555555555556,
              "#d8576b"
             ],
             [
              0.6666666666666666,
              "#ed7953"
             ],
             [
              0.7777777777777778,
              "#fb9f3a"
             ],
             [
              0.8888888888888888,
              "#fdca26"
             ],
             [
              1,
              "#f0f921"
             ]
            ],
            "type": "histogram2dcontour"
           }
          ],
          "mesh3d": [
           {
            "colorbar": {
             "outlinewidth": 0,
             "ticks": ""
            },
            "type": "mesh3d"
           }
          ],
          "parcoords": [
           {
            "line": {
             "colorbar": {
              "outlinewidth": 0,
              "ticks": ""
             }
            },
            "type": "parcoords"
           }
          ],
          "pie": [
           {
            "automargin": true,
            "type": "pie"
           }
          ],
          "scatter": [
           {
            "fillpattern": {
             "fillmode": "overlay",
             "size": 10,
             "solidity": 0.2
            },
            "type": "scatter"
           }
          ],
          "scatter3d": [
           {
            "line": {
             "colorbar": {
              "outlinewidth": 0,
              "ticks": ""
             }
            },
            "marker": {
             "colorbar": {
              "outlinewidth": 0,
              "ticks": ""
             }
            },
            "type": "scatter3d"
           }
          ],
          "scattercarpet": [
           {
            "marker": {
             "colorbar": {
              "outlinewidth": 0,
              "ticks": ""
             }
            },
            "type": "scattercarpet"
           }
          ],
          "scattergeo": [
           {
            "marker": {
             "colorbar": {
              "outlinewidth": 0,
              "ticks": ""
             }
            },
            "type": "scattergeo"
           }
          ],
          "scattergl": [
           {
            "marker": {
             "colorbar": {
              "outlinewidth": 0,
              "ticks": ""
             }
            },
            "type": "scattergl"
           }
          ],
          "scattermap": [
           {
            "marker": {
             "colorbar": {
              "outlinewidth": 0,
              "ticks": ""
             }
            },
            "type": "scattermap"
           }
          ],
          "scattermapbox": [
           {
            "marker": {
             "colorbar": {
              "outlinewidth": 0,
              "ticks": ""
             }
            },
            "type": "scattermapbox"
           }
          ],
          "scatterpolar": [
           {
            "marker": {
             "colorbar": {
              "outlinewidth": 0,
              "ticks": ""
             }
            },
            "type": "scatterpolar"
           }
          ],
          "scatterpolargl": [
           {
            "marker": {
             "colorbar": {
              "outlinewidth": 0,
              "ticks": ""
             }
            },
            "type": "scatterpolargl"
           }
          ],
          "scatterternary": [
           {
            "marker": {
             "colorbar": {
              "outlinewidth": 0,
              "ticks": ""
             }
            },
            "type": "scatterternary"
           }
          ],
          "surface": [
           {
            "colorbar": {
             "outlinewidth": 0,
             "ticks": ""
            },
            "colorscale": [
             [
              0,
              "#0d0887"
             ],
             [
              0.1111111111111111,
              "#46039f"
             ],
             [
              0.2222222222222222,
              "#7201a8"
             ],
             [
              0.3333333333333333,
              "#9c179e"
             ],
             [
              0.4444444444444444,
              "#bd3786"
             ],
             [
              0.5555555555555556,
              "#d8576b"
             ],
             [
              0.6666666666666666,
              "#ed7953"
             ],
             [
              0.7777777777777778,
              "#fb9f3a"
             ],
             [
              0.8888888888888888,
              "#fdca26"
             ],
             [
              1,
              "#f0f921"
             ]
            ],
            "type": "surface"
           }
          ],
          "table": [
           {
            "cells": {
             "fill": {
              "color": "#EBF0F8"
             },
             "line": {
              "color": "white"
             }
            },
            "header": {
             "fill": {
              "color": "#C8D4E3"
             },
             "line": {
              "color": "white"
             }
            },
            "type": "table"
           }
          ]
         },
         "layout": {
          "annotationdefaults": {
           "arrowcolor": "#2a3f5f",
           "arrowhead": 0,
           "arrowwidth": 1
          },
          "autotypenumbers": "strict",
          "coloraxis": {
           "colorbar": {
            "outlinewidth": 0,
            "ticks": ""
           }
          },
          "colorscale": {
           "diverging": [
            [
             0,
             "#8e0152"
            ],
            [
             0.1,
             "#c51b7d"
            ],
            [
             0.2,
             "#de77ae"
            ],
            [
             0.3,
             "#f1b6da"
            ],
            [
             0.4,
             "#fde0ef"
            ],
            [
             0.5,
             "#f7f7f7"
            ],
            [
             0.6,
             "#e6f5d0"
            ],
            [
             0.7,
             "#b8e186"
            ],
            [
             0.8,
             "#7fbc41"
            ],
            [
             0.9,
             "#4d9221"
            ],
            [
             1,
             "#276419"
            ]
           ],
           "sequential": [
            [
             0,
             "#0d0887"
            ],
            [
             0.1111111111111111,
             "#46039f"
            ],
            [
             0.2222222222222222,
             "#7201a8"
            ],
            [
             0.3333333333333333,
             "#9c179e"
            ],
            [
             0.4444444444444444,
             "#bd3786"
            ],
            [
             0.5555555555555556,
             "#d8576b"
            ],
            [
             0.6666666666666666,
             "#ed7953"
            ],
            [
             0.7777777777777778,
             "#fb9f3a"
            ],
            [
             0.8888888888888888,
             "#fdca26"
            ],
            [
             1,
             "#f0f921"
            ]
           ],
           "sequentialminus": [
            [
             0,
             "#0d0887"
            ],
            [
             0.1111111111111111,
             "#46039f"
            ],
            [
             0.2222222222222222,
             "#7201a8"
            ],
            [
             0.3333333333333333,
             "#9c179e"
            ],
            [
             0.4444444444444444,
             "#bd3786"
            ],
            [
             0.5555555555555556,
             "#d8576b"
            ],
            [
             0.6666666666666666,
             "#ed7953"
            ],
            [
             0.7777777777777778,
             "#fb9f3a"
            ],
            [
             0.8888888888888888,
             "#fdca26"
            ],
            [
             1,
             "#f0f921"
            ]
           ]
          },
          "colorway": [
           "#636efa",
           "#EF553B",
           "#00cc96",
           "#ab63fa",
           "#FFA15A",
           "#19d3f3",
           "#FF6692",
           "#B6E880",
           "#FF97FF",
           "#FECB52"
          ],
          "font": {
           "color": "#2a3f5f"
          },
          "geo": {
           "bgcolor": "white",
           "lakecolor": "white",
           "landcolor": "#E5ECF6",
           "showlakes": true,
           "showland": true,
           "subunitcolor": "white"
          },
          "hoverlabel": {
           "align": "left"
          },
          "hovermode": "closest",
          "mapbox": {
           "style": "light"
          },
          "paper_bgcolor": "white",
          "plot_bgcolor": "#E5ECF6",
          "polar": {
           "angularaxis": {
            "gridcolor": "white",
            "linecolor": "white",
            "ticks": ""
           },
           "bgcolor": "#E5ECF6",
           "radialaxis": {
            "gridcolor": "white",
            "linecolor": "white",
            "ticks": ""
           }
          },
          "scene": {
           "xaxis": {
            "backgroundcolor": "#E5ECF6",
            "gridcolor": "white",
            "gridwidth": 2,
            "linecolor": "white",
            "showbackground": true,
            "ticks": "",
            "zerolinecolor": "white"
           },
           "yaxis": {
            "backgroundcolor": "#E5ECF6",
            "gridcolor": "white",
            "gridwidth": 2,
            "linecolor": "white",
            "showbackground": true,
            "ticks": "",
            "zerolinecolor": "white"
           },
           "zaxis": {
            "backgroundcolor": "#E5ECF6",
            "gridcolor": "white",
            "gridwidth": 2,
            "linecolor": "white",
            "showbackground": true,
            "ticks": "",
            "zerolinecolor": "white"
           }
          },
          "shapedefaults": {
           "line": {
            "color": "#2a3f5f"
           }
          },
          "ternary": {
           "aaxis": {
            "gridcolor": "white",
            "linecolor": "white",
            "ticks": ""
           },
           "baxis": {
            "gridcolor": "white",
            "linecolor": "white",
            "ticks": ""
           },
           "bgcolor": "#E5ECF6",
           "caxis": {
            "gridcolor": "white",
            "linecolor": "white",
            "ticks": ""
           }
          },
          "title": {
           "x": 0.05
          },
          "xaxis": {
           "automargin": true,
           "gridcolor": "white",
           "linecolor": "white",
           "ticks": "",
           "title": {
            "standoff": 15
           },
           "zerolinecolor": "white",
           "zerolinewidth": 2
          },
          "yaxis": {
           "automargin": true,
           "gridcolor": "white",
           "linecolor": "white",
           "ticks": "",
           "title": {
            "standoff": 15
           },
           "zerolinecolor": "white",
           "zerolinewidth": 2
          }
         }
        },
        "title": {
         "text": "Conversion Funnel by Visitor Type"
        },
        "xaxis": {
         "anchor": "y",
         "domain": [
          0,
          0.2888888888888889
         ]
        },
        "xaxis2": {
         "anchor": "y2",
         "domain": [
          0.35555555555555557,
          0.6444444444444445
         ]
        },
        "xaxis3": {
         "anchor": "y3",
         "domain": [
          0.7111111111111111,
          1
         ]
        },
        "yaxis": {
         "anchor": "x",
         "domain": [
          0,
          1
         ]
        },
        "yaxis2": {
         "anchor": "x2",
         "domain": [
          0,
          1
         ]
        },
        "yaxis3": {
         "anchor": "x3",
         "domain": [
          0,
          1
         ]
        }
       }
      }
     },
     "metadata": {},
     "output_type": "display_data"
    }
   ],
   "source": [
    "# Funnel by Visitor Type\n",
    "fig_visitor = make_subplots(\n",
    "    rows=1, cols=len(df['VisitorType'].unique()),\n",
    "    subplot_titles=list(df['VisitorType'].unique()),\n",
    "    specs=[[{\"type\": \"funnel\"} for _ in range(len(df['VisitorType'].unique()))]]\n",
    ")\n",
    "\n",
    "colors = ['lightblue', 'lightgreen', 'lightcoral']\n",
    "for i, visitor_type in enumerate(df['VisitorType'].unique()):\n",
    "    visitor_data = visitor_funnel_df.loc[visitor_type]\n",
    "    \n",
    "    fig_visitor.add_trace(\n",
    "        go.Funnel(\n",
    "            y=['Sessions', 'Engaged', 'Product Interest', 'Deep Engagement', 'High Intent', 'Purchase'],\n",
    "            x=[visitor_data['Total_Sessions'], visitor_data['Engaged'], \n",
    "               visitor_data['Product_Interest'], visitor_data['Deep_Engagement'], \n",
    "               visitor_data['High_Intent'], visitor_data['Purchase']],\n",
    "            name=visitor_type,\n",
    "            marker_color=colors[i % len(colors)]\n",
    "        ),\n",
    "        row=1, col=i+1\n",
    "    )\n",
    "\n",
    "fig_visitor.update_layout(\n",
    "    title=\"Conversion Funnel by Visitor Type\",\n",
    "    height=500,\n",
    "    showlegend=False\n",
    ")\n",
    "fig_visitor.show()\n"
   ]
  },
  {
   "cell_type": "code",
   "execution_count": 18,
   "id": "ea45d3fe",
   "metadata": {},
   "outputs": [
    {
     "data": {
      "image/png": "[encoded data removed]",
      "text/plain": [
       "<Figure size 1000x600 with 2 Axes>"
      ]
     },
     "metadata": {},
     "output_type": "display_data"
    }
   ],
   "source": [
    "# Create performance matrix\n",
    "performance_metrics = []\n",
    "segments = ['New_Visitor', 'Returning_Visitor', 'Other']\n",
    "\n",
    "for segment in segments:\n",
    "    if segment in df['VisitorType'].values:\n",
    "        segment_data = df[df['VisitorType'] == segment]\n",
    "        metrics = calculate_detailed_funnel_metrics(segment_data)\n",
    "        performance_metrics.append([\n",
    "            metrics['Conversion_Rate'],\n",
    "            metrics['Avg_Page_Value'],\n",
    "            metrics['Avg_Session_Duration'],\n",
    "            metrics['Avg_Pages_Per_Session']\n",
    "        ])\n",
    "\n",
    "if performance_metrics:\n",
    "    performance_df = pd.DataFrame(\n",
    "        performance_metrics,\n",
    "        index=[seg for seg in segments if seg in df['VisitorType'].values],\n",
    "        columns=['Conversion Rate', 'Avg Page Value', 'Avg Duration', 'Avg Pages']\n",
    "    )\n",
    "    \n",
    "    plt.figure(figsize=(10, 6))\n",
    "    sns.heatmap(performance_df, annot=True, cmap='YlOrRd', fmt='.2f')\n",
    "    plt.title('Performance Metrics Heatmap by Visitor Type')\n",
    "    plt.tight_layout()\n",
    "    plt.show()\n"
   ]
  },
  {
   "cell_type": "code",
   "execution_count": 19,
   "id": "2355331f",
   "metadata": {},
   "outputs": [
    {
     "name": "stdout",
     "output_type": "stream",
     "text": [
      "Monthly Performance:\n",
      "       Sessions  Conversions  Conversion_Rate  Avg_Page_Value  Bounce_Rate  \\\n",
      "Month                                                                        \n",
      "Aug         433           76           0.1755          5.9381       0.0182   \n",
      "Dec        1727          216           0.1251          6.8332       0.0201   \n",
      "Feb         184            3           0.0163          0.8904       0.0470   \n",
      "Jul         432           66           0.1528          4.1044       0.0247   \n",
      "June        288           29           0.1007          3.3914       0.0351   \n",
      "Mar        1907          192           0.1007          3.9597       0.0217   \n",
      "May        3364          365           0.1085          5.4316       0.0269   \n",
      "Nov        2998          760           0.2535          7.1294       0.0193   \n",
      "Oct         549          115           0.2095          8.6456       0.0118   \n",
      "Sep         448           86           0.1920          7.5568       0.0122   \n",
      "\n",
      "       Avg_Pages  \n",
      "Month             \n",
      "Aug      41.9376  \n",
      "Dec      30.7035  \n",
      "Feb      11.8152  \n",
      "Jul      39.3472  \n",
      "June     38.9028  \n",
      "Mar      22.1169  \n",
      "May      28.8766  \n",
      "Nov      49.3025  \n",
      "Oct      37.7741  \n",
      "Sep      37.0067  \n",
      "\n",
      "Weekend vs Weekday Performance:\n",
      "         Sessions  Conversions  Conversion_Rate  Avg_Page_Value  Bounce_Rate\n",
      "Weekday      9462         1409           0.1489          5.7666       0.0234\n",
      "Weekend      2868          499           0.1740          6.2940       0.0181\n"
     ]
    }
   ],
   "source": [
    "# Monthly performance\n",
    "monthly_performance = df.groupby('Month').agg({\n",
    "    'Revenue': ['count', 'sum', 'mean'],\n",
    "    'PageValues': 'mean',\n",
    "    'BounceRates': 'mean',\n",
    "    'Total_Pages': 'mean'\n",
    "}).round(4)\n",
    "\n",
    "monthly_performance.columns = ['Sessions', 'Conversions', 'Conversion_Rate', 'Avg_Page_Value', 'Bounce_Rate', 'Avg_Pages']\n",
    "print(\"Monthly Performance:\")\n",
    "print(monthly_performance)\n",
    "\n",
    "# Weekend vs Weekday analysis\n",
    "weekend_performance = df.groupby('Weekend').agg({\n",
    "    'Revenue': ['count', 'sum', 'mean'],\n",
    "    'PageValues': 'mean',\n",
    "    'BounceRates': 'mean'\n",
    "}).round(4)\n",
    "\n",
    "weekend_performance.columns = ['Sessions', 'Conversions', 'Conversion_Rate', 'Avg_Page_Value', 'Bounce_Rate']\n",
    "weekend_performance.index = ['Weekday', 'Weekend']\n",
    "print(\"\\nWeekend vs Weekday Performance:\")\n",
    "print(weekend_performance)\n"
   ]
  },
  {
   "cell_type": "code",
   "execution_count": 20,
   "id": "ed85b0dc",
   "metadata": {},
   "outputs": [],
   "source": [
    "# Calculate key metrics\n",
    "overall_conversion_rate = df['Revenue'].mean() * 100\n",
    "avg_page_value = df['PageValues'].mean()\n",
    "avg_bounce_rate = df['BounceRates'].mean() * 100\n",
    "best_visitor_type = visitor_funnel_df['Conversion_Rate'].idxmax()\n",
    "best_month = monthly_performance['Conversion_Rate'].idxmax()\n"
   ]
  },
  {
   "cell_type": "code",
   "execution_count": 21,
   "id": "e40d9394",
   "metadata": {},
   "outputs": [
    {
     "name": "stdout",
     "output_type": "stream",
     "text": [
      "• Overall conversion rate: 15.47%\n",
      "• Average page value: $5.89\n",
      "• Average bounce rate: 2.22%\n",
      "• Best performing visitor type: New_Visitor\n",
      "• Best performing month: Nov\n"
     ]
    }
   ],
   "source": [
    "print(f\"• Overall conversion rate: {overall_conversion_rate:.2f}%\")\n",
    "print(f\"• Average page value: ${avg_page_value:.2f}\")\n",
    "print(f\"• Average bounce rate: {avg_bounce_rate:.2f}%\")\n",
    "print(f\"• Best performing visitor type: {best_visitor_type}\")\n",
    "print(f\"• Best performing month: {best_month}\")\n"
   ]
  },
  {
   "cell_type": "code",
   "execution_count": 22,
   "id": "98f9f076",
   "metadata": {},
   "outputs": [
    {
     "name": "stdout",
     "output_type": "stream",
     "text": [
      "• Total page value generated: $72614.55\n",
      "• Revenue per session: $5.89\n"
     ]
    }
   ],
   "source": [
    "total_revenue = df['PageValues'].sum()  # Using PageValues as revenue proxy\n",
    "revenue_per_session = total_revenue / len(df)\n",
    "print(f\"• Total page value generated: ${total_revenue:.2f}\")\n",
    "print(f\"• Revenue per session: ${revenue_per_session:.2f}\")\n"
   ]
  },
  {
   "cell_type": "code",
   "execution_count": 23,
   "id": "e0df562a",
   "metadata": {},
   "outputs": [
    {
     "name": "stdout",
     "output_type": "stream",
     "text": [
      "• Average product pages per session: 31.7\n",
      "• Average session duration: 1310.0 seconds\n"
     ]
    }
   ],
   "source": [
    "avg_product_pages = df['ProductRelated'].mean()\n",
    "avg_session_duration = df['Total_Duration'].mean()\n",
    "print(f\"• Average product pages per session: {avg_product_pages:.1f}\")\n",
    "print(f\"• Average session duration: {avg_session_duration:.1f} seconds\")\n"
   ]
  },
  {
   "cell_type": "code",
   "execution_count": 24,
   "id": "b49a0e98",
   "metadata": {},
   "outputs": [
    {
     "name": "stdout",
     "output_type": "stream",
     "text": [
      "• No statistically significant difference in conversion rates (p = 0.0960)\n"
     ]
    }
   ],
   "source": [
    "if p_value_chi2 < 0.05:\n",
    "    winner = 'A' if group_a['Revenue'].mean() > group_b['Revenue'].mean() else 'B'\n",
    "    print(f\"• Statistically significant difference found (p = {p_value_chi2:.4f})\")\n",
    "    print(f\"• Group {winner} is the winner for conversion rate\")\n",
    "else:\n",
    "    print(f\"• No statistically significant difference in conversion rates (p = {p_value_chi2:.4f})\")\n"
   ]
  },
  {
   "cell_type": "code",
   "execution_count": 25,
   "id": "8abc8ae4",
   "metadata": {},
   "outputs": [],
   "source": [
    "funnel_df.to_csv('/Users/priyankamalavade/Desktop/Ecommerce_Performance_Analysis/data/funnel_analysis_results.csv', index=False)\n",
    "visitor_funnel_df.to_csv('/Users/priyankamalavade/Desktop/Ecommerce_Performance_Analysis/data/visitor_type_funnel_analysis.csv')\n",
    "monthly_performance.to_csv('/Users/priyankamalavade/Desktop/Ecommerce_Performance_Analysis/data/monthly_performance_analysis.csv')\n"
   ]
  }
 ],
 "metadata": {
  "kernelspec": {
   "display_name": "venv",
   "language": "python",
   "name": "python3"
  },
  "language_info": {
   "codemirror_mode": {
    "name": "ipython",
    "version": 3
   },
   "file_extension": ".py",
   "mimetype": "text/x-python",
   "name": "python",
   "nbconvert_exporter": "python",
   "pygments_lexer": "ipython3",
   "version": "3.10.9"
  }
 },
 "nbformat": 4,
 "nbformat_minor": 5
}
